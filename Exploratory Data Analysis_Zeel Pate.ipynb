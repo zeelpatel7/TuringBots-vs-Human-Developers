{
 "cells": [
  {
   "cell_type": "markdown",
   "id": "0972c2c1-83ab-40ec-9383-4447e4387524",
   "metadata": {},
   "source": [
    "# Zeel Patel\n",
    "# Big Data & Cloud Computing Final Project\n",
    "## Will Turing Bots replace Humans Software Developers?\n",
    "\n",
    "\n",
    "### Exploratory Data Analysis\n"
   ]
  },
  {
   "cell_type": "code",
   "execution_count": 1,
   "id": "6fc28355-12f1-49e0-af9d-42c3b625a11c",
   "metadata": {},
   "outputs": [
    {
     "name": "stdout",
     "output_type": "stream",
     "text": [
      "Loading full data from commits...\n"
     ]
    },
    {
     "name": "stderr",
     "output_type": "stream",
     "text": [
      "                                                                                \r"
     ]
    },
    {
     "name": "stdout",
     "output_type": "stream",
     "text": [
      "Loading full data from contents...\n"
     ]
    },
    {
     "name": "stderr",
     "output_type": "stream",
     "text": [
      "                                                                                \r"
     ]
    },
    {
     "name": "stdout",
     "output_type": "stream",
     "text": [
      "Loading full data from files...\n",
      "Loading full data from languages...\n",
      "Loading full data from licenses...\n",
      "\n",
      "Schema for commits:\n",
      "root\n",
      " |-- commit: string (nullable = true)\n",
      " |-- tree: string (nullable = true)\n",
      " |-- parent: array (nullable = true)\n",
      " |    |-- element: string (containsNull = true)\n",
      " |-- author: struct (nullable = true)\n",
      " |    |-- name: string (nullable = true)\n",
      " |    |-- email: string (nullable = true)\n",
      " |    |-- time_sec: long (nullable = true)\n",
      " |    |-- tz_offset: long (nullable = true)\n",
      " |    |-- date: struct (nullable = true)\n",
      " |    |    |-- seconds: long (nullable = true)\n",
      " |    |    |-- nanos: long (nullable = true)\n",
      " |-- committer: struct (nullable = true)\n",
      " |    |-- name: string (nullable = true)\n",
      " |    |-- email: string (nullable = true)\n",
      " |    |-- time_sec: long (nullable = true)\n",
      " |    |-- tz_offset: long (nullable = true)\n",
      " |    |-- date: struct (nullable = true)\n",
      " |    |    |-- seconds: long (nullable = true)\n",
      " |    |    |-- nanos: long (nullable = true)\n",
      " |-- subject: string (nullable = true)\n",
      " |-- message: string (nullable = true)\n",
      " |-- trailer: array (nullable = true)\n",
      " |    |-- element: struct (containsNull = true)\n",
      " |    |    |-- key: string (nullable = true)\n",
      " |    |    |-- value: string (nullable = true)\n",
      " |    |    |-- email: string (nullable = true)\n",
      " |-- difference: array (nullable = true)\n",
      " |    |-- element: struct (containsNull = true)\n",
      " |    |    |-- old_mode: long (nullable = true)\n",
      " |    |    |-- new_mode: long (nullable = true)\n",
      " |    |    |-- old_path: string (nullable = true)\n",
      " |    |    |-- new_path: string (nullable = true)\n",
      " |    |    |-- old_sha1: string (nullable = true)\n",
      " |    |    |-- new_sha1: string (nullable = true)\n",
      " |    |    |-- old_repo: string (nullable = true)\n",
      " |    |    |-- new_repo: string (nullable = true)\n",
      " |-- difference_truncated: boolean (nullable = true)\n",
      " |-- repo_name: array (nullable = true)\n",
      " |    |-- element: string (containsNull = true)\n",
      " |-- encoding: string (nullable = true)\n",
      "\n",
      "\n",
      "Sample data from commits:\n"
     ]
    },
    {
     "name": "stderr",
     "output_type": "stream",
     "text": [
      "                                                                                \r"
     ]
    },
    {
     "name": "stdout",
     "output_type": "stream",
     "text": [
      "+----------------------------------------+----------------------------------------+------------------------------------------------------------------------------------+----------------------------------------------------------------------------------------------------------------+----------------------------------------------------------------------------------------------------------------+----------------------------------------------------------------------+-------------------------------------------------------------------------------------------------------------------------------------------+----------------------------------------------------------------------------------------------------------------------------------------------------------------------------------------+----------+--------------------+------------------------------------------------------------------------+--------+\n",
      "|commit                                  |tree                                    |parent                                                                              |author                                                                                                          |committer                                                                                                       |subject                                                               |message                                                                                                                                    |trailer                                                                                                                                                                                 |difference|difference_truncated|repo_name                                                               |encoding|\n",
      "+----------------------------------------+----------------------------------------+------------------------------------------------------------------------------------+----------------------------------------------------------------------------------------------------------------+----------------------------------------------------------------------------------------------------------------+----------------------------------------------------------------------+-------------------------------------------------------------------------------------------------------------------------------------------+----------------------------------------------------------------------------------------------------------------------------------------------------------------------------------------+----------+--------------------+------------------------------------------------------------------------+--------+\n",
      "|aa358905a1b12c6fa43b6e877e907fc9d36ff0b9|df3f8bf61bf1cb0dff3a86ebe18671792c2d4f27|[ea230a45a0e97e4d95b5f7fae9ce7ef659b60291]                                          |{conda-forge-coordinator, e5ec32c8593b6ea3202de4b38c1a852e362e575b@gmail.com, 1647357073, 0, {1647357073, null}}|{conda-forge-coordinator, e5ec32c8593b6ea3202de4b38c1a852e362e575b@gmail.com, 1647357073, 0, {1647357073, null}}|Updated the qcengine feedstock.                                       |Updated the qcengine feedstock.                                                                                                            |[]                                                                                                                                                                                      |[]        |true                |[conda-forge/feedstocks]                                                |null    |\n",
      "|5a6b6d6d29489f8587b247313804d70c45d0981f|ff89accb7e283ca88027d790cdb8bacf373895ab|[4ee369feb64ee97d71da732da0e78477efbadd76, 6aae5a3059865fa85940e1af13157920ba2efb5e]|{Rob Allen, 7e09c9d3e96378bf549fc283fd6e1e5b7014cc33@akrabat.com, 1323443117, 0, {1323443117, null}}            |{Rob Allen, 7e09c9d3e96378bf549fc283fd6e1e5b7014cc33@akrabat.com, 1323443117, 0, {1323443117, null}}            |Merge remote-tracking branch 'weierophinney/hotfix/amf-authentication'|Merge remote-tracking branch 'weierophinney/hotfix/amf-authentication'\n",
      "                                                                    |[]                                                                                                                                                                                      |[]        |null                |[MadCat34/zend-escaper, Maks3w/zend-escaper, zendframework/zend-escaper]|null    |\n",
      "|6b6ac3b8ab7363b2238a36259c6adb7ba5d31482|915acc1689313e3e233d6f80338acb1629163df9|[f10bea38c15c335eb71469bc0668688d2a8cd9cd]                                          |{Zhihui Zhang, 9693ba603766650d41fb9fc4917f4ccd00089e95@psc.edu, 1303924643, 0, {1303924643, null}}             |{Zhihui Zhang, 9693ba603766650d41fb9fc4917f4ccd00089e95@psc.edu, 1303924643, 0, {1303924643, null}}             |provide hook to override ZFS lockfile too                             |provide hook to override ZFS lockfile too\n",
      "\n",
      "git-svn-id: f2acecaac6fbd5a03f3d4799db58dda434111981@16299 3eda493b-6a19-0410-b2e0-ec8ea4dd8fda\n",
      "|[{git-svn-id, f2acecaac6fbd5a03f3d4799db58dda434111981@16299 3eda493b-6a19-0410-b2e0-ec8ea4dd8fda, f2acecaac6fbd5a03f3d4799db58dda434111981@16299 3eda493b-6a19-0410-b2e0-ec8ea4dd8fda}]|[]        |null                |[pscedu/slash2-stable, pscedu/pfl]                                      |null    |\n",
      "|e26e1f63938b983cea8d6b3229252a20c22ebbda|a86ea389f72e12b8905631dae68a1fd0cb5a859a|[e263e5fcd2ced2e28bacaf63778b88561accd7a2]                                          |{conda-forge-coordinator, e5ec32c8593b6ea3202de4b38c1a852e362e575b@gmail.com, 1643200796, 0, {1643200796, null}}|{conda-forge-coordinator, e5ec32c8593b6ea3202de4b38c1a852e362e575b@gmail.com, 1643200796, 0, {1643200796, null}}|Updated the mailchecker feedstock.                                    |Updated the mailchecker feedstock.                                                                                                         |[]                                                                                                                                                                                      |[]        |true                |[conda-forge/feedstocks]                                                |null    |\n",
      "|2a896010ccf1c86c24b2fac5cd6b9ed693d5cde6|ba238795c2befc08b1276e60c4402afd9014c417|[721364dbb5d1515f6deed9b132e34091822b0be1]                                          |{armaneshaghi, f6cc8d3a4fbdbde87593681f883cc7dde65bad34@gmail.com, 1394080200, 0, {1394080200, null}}           |{armaneshaghi, f6cc8d3a4fbdbde87593681f883cc7dde65bad34@gmail.com, 1394080200, 0, {1394080200, null}}           |2014-03-06T04:30                                                      |2014-03-06T04:30\n",
      "                                                                                                                          |[]                                                                                                                                                                                      |[]        |null                |[armaneshaghi/profileLife]                                              |null    |\n",
      "+----------------------------------------+----------------------------------------+------------------------------------------------------------------------------------+----------------------------------------------------------------------------------------------------------------+----------------------------------------------------------------------------------------------------------------+----------------------------------------------------------------------+-------------------------------------------------------------------------------------------------------------------------------------------+----------------------------------------------------------------------------------------------------------------------------------------------------------------------------------------+----------+--------------------+------------------------------------------------------------------------+--------+\n",
      "only showing top 5 rows\n",
      "\n",
      "\n",
      "Schema for contents:\n",
      "root\n",
      " |-- id: string (nullable = true)\n",
      " |-- size: long (nullable = true)\n",
      " |-- content: string (nullable = true)\n",
      " |-- binary: boolean (nullable = true)\n",
      " |-- copies: long (nullable = true)\n",
      "\n",
      "\n",
      "Sample data from contents:\n"
     ]
    },
    {
     "name": "stderr",
     "output_type": "stream",
     "text": [
      "                                                                                \r"
     ]
    },
    {
     "name": "stdout",
     "output_type": "stream",
     "text": [
      "+----------------------------------------+-----+----------------------------------------------------------------------------------------------------------------------------------------------------------------------------------------------------------------------------------------------------------------------------------------------------------------------------------------------------------------------------------------------------------------------------------------------------------------------------------------------------------------------------------------------------------------------------------------------------------------------------------------------------------------------------------------------------------------------------------------------------------------------------------------------------------------------------------------------------------------------------------------------------------------------------------------------------------------------------------------------------------------------------------------------------------------------------------------------------------------------------------------------------------------------------------------------------------------------------------------------------------------------------------------------------------------------------------------------------------------------------------------------------------------------------------------------------------------------------------------------------------------------------------------------------------------------------------------------------------------------------------+------+------+\n",
      "|id                                      |size |content                                                                                                                                                                                                                                                                                                                                                                                                                                                                                                                                                                                                                                                                                                                                                                                                                                                                                                                                                                                                                                                                                                                                                                                                                                                                                                                                                                                                                                                                                                                                                                                                                           |binary|copies|\n",
      "+----------------------------------------+-----+----------------------------------------------------------------------------------------------------------------------------------------------------------------------------------------------------------------------------------------------------------------------------------------------------------------------------------------------------------------------------------------------------------------------------------------------------------------------------------------------------------------------------------------------------------------------------------------------------------------------------------------------------------------------------------------------------------------------------------------------------------------------------------------------------------------------------------------------------------------------------------------------------------------------------------------------------------------------------------------------------------------------------------------------------------------------------------------------------------------------------------------------------------------------------------------------------------------------------------------------------------------------------------------------------------------------------------------------------------------------------------------------------------------------------------------------------------------------------------------------------------------------------------------------------------------------------------------------------------------------------------+------+------+\n",
      "|d5b1049fdaa182fa5f47e6f9c45bd46a478118eb|1570 |{\"version\":3,\"sources\":[\"angular-locale_az-cyrl-az.js\"],\"names\":[\"angular\",\"module\",\"$provide\",\"PLURAL_CATEGORY\",\"ZERO\",\"ONE\",\"TWO\",\"FEW\",\"MANY\",\"OTHER\",\"value\",\"DATETIME_FORMATS\",\"AMPMS\",\"DAY\",\"ERANAMES\",\"ERAS\",\"FIRSTDAYOFWEEK\",\"MONTH\",\"SHORTDAY\",\"SHORTMONTH\",\"STANDALONEMONTH\",\"WEEKENDRANGE\",\"fullDate\",\"longDate\",\"medium\",\"mediumDate\",\"mediumTime\",\"short\",\"shortDate\",\"shortTime\",\"NUMBER_FORMATS\",\"CURRENCY_SYM\",\"DECIMAL_SEP\",\"GROUP_SEP\",\"PATTERNS\",\"gSize\",\"lgSize\",\"maxFrac\",\"minFrac\",\"minInt\",\"negPre\",\"negSuf\",\"posPre\",\"posSuf\",\"id\",\"localeID\",\"pluralCat\",\"n\",\"opt_precision\"],\"mappings\":\"AAAA,YACAA,SAAQC,OAAO,eAAiB,WAAY,SAASC,GACrD,GAAIC,IAAmBC,KAAM,OAAQC,IAAK,MAAOC,IAAK,MAAOC,IAAK,MAAOC,KAAM,OAAQC,MAAO,QAC9FP,GAASQ,MAAM,WACbC,kBACEC,OACE,KACA,MAEFC,KACE,QACA,eACA,kBACA,WACA,cACA,OACA,SAEFC,UACE,MACA,MAEFC,MACE,MACA,MAEFC,eAAkB,EAClBC,OACE,SACA,SACA,OACA,QACA,MACA,OACA,OACA,SACA,WACA,UACA,SACA,UAEFC,UACE,QACA,eACA,kBACA,WACA,cACA,OACA,SAEFC,YACE,SACA,SACA,OACA,QACA,MACA,OACA,OACA,SACA,WACA,UACA,SACA,UAEFC,iBACE,SACA,SACA,OACA,QACA,MACA,OACA,OACA,SACA,WACA,UACA,SACA,UAEFC,cACE,EACA,GAEFC,SAAY,mBACZC,SAAY,YACZC,OAAU,oBACVC,WAAc,WACdC,WAAc,WACdC,MAAS,iBACTC,UAAa,WACbC,UAAa,SAEfC,gBACEC,aAAgB,OAChBC,YAAe,IACfC,UAAa,IACbC,WAEIC,MAAS,EACTC,OAAU,EACVC,QAAW,EACXC,QAAW,EACXC,OAAU,EACVC,OAAU,IACVC,OAAU,GACVC,OAAU,GACVC,OAAU,KAGVR,MAAS,EACTC,OAAU,EACVC,QAAW,EACXC,QAAW,EACXC,OAAU,EACVC,OAAU,MACVC,OAAU,GACVC,OAAU,KACVC,OAAU,MAIhBC,GAAM,aACNC,SAAY,aACZC,UAAa,SAASC,EAAGC,GAAkB,MAAS,IAALD,EAAoB5C,EAAgBE,IAAgBF,EAAgBM\",\"file\":\"angular-locale_az-cyrl-az.min.js\"}|false |256   |\n",
      "|896830f9ea31efd6b0d4b2a1955f11c27d199bbd|18616|null                                                                                                                                                                                                                                                                                                                                                                                                                                                                                                                                                                                                                                                                                                                                                                                                                                                                                                                                                                                                                                                                                                                                                                                                                                                                                                                                                                                                                                                                                                                                                                                                                              |true  |1     |\n",
      "|bf1e2a8490344601c878b9ecc2bf567229cb6459|15580|null                                                                                                                                                                                                                                                                                                                                                                                                                                                                                                                                                                                                                                                                                                                                                                                                                                                                                                                                                                                                                                                                                                                                                                                                                                                                                                                                                                                                                                                                                                                                                                                                                              |true  |1     |\n",
      "|e5976431eba91aa733b88ef0ca7599572a4cadbc|3328 |null                                                                                                                                                                                                                                                                                                                                                                                                                                                                                                                                                                                                                                                                                                                                                                                                                                                                                                                                                                                                                                                                                                                                                                                                                                                                                                                                                                                                                                                                                                                                                                                                                              |true  |1     |\n",
      "|311532e41682cab22722dc51d91d9d86e71593bc|8970 |null                                                                                                                                                                                                                                                                                                                                                                                                                                                                                                                                                                                                                                                                                                                                                                                                                                                                                                                                                                                                                                                                                                                                                                                                                                                                                                                                                                                                                                                                                                                                                                                                                              |true  |1     |\n",
      "+----------------------------------------+-----+----------------------------------------------------------------------------------------------------------------------------------------------------------------------------------------------------------------------------------------------------------------------------------------------------------------------------------------------------------------------------------------------------------------------------------------------------------------------------------------------------------------------------------------------------------------------------------------------------------------------------------------------------------------------------------------------------------------------------------------------------------------------------------------------------------------------------------------------------------------------------------------------------------------------------------------------------------------------------------------------------------------------------------------------------------------------------------------------------------------------------------------------------------------------------------------------------------------------------------------------------------------------------------------------------------------------------------------------------------------------------------------------------------------------------------------------------------------------------------------------------------------------------------------------------------------------------------------------------------------------------------+------+------+\n",
      "only showing top 5 rows\n",
      "\n",
      "\n",
      "Schema for files:\n",
      "root\n",
      " |-- repo_name: string (nullable = true)\n",
      " |-- ref: string (nullable = true)\n",
      " |-- path: string (nullable = true)\n",
      " |-- mode: long (nullable = true)\n",
      " |-- id: string (nullable = true)\n",
      " |-- symlink_target: string (nullable = true)\n",
      "\n",
      "\n",
      "Sample data from files:\n"
     ]
    },
    {
     "name": "stderr",
     "output_type": "stream",
     "text": [
      "                                                                                \r"
     ]
    },
    {
     "name": "stdout",
     "output_type": "stream",
     "text": [
      "+--------------------------------------+-----------------+----------------------------------------+-----+----------------------------------------+--------------+\n",
      "|repo_name                             |ref              |path                                    |mode |id                                      |symlink_target|\n",
      "+--------------------------------------+-----------------+----------------------------------------+-----+----------------------------------------+--------------+\n",
      "|enzbang/diouzhtu                      |refs/heads/master|gwiad_wiki_service/scripts/do-install.sh|33261|49365044eed28769152726537f00a93a68988b07|null          |\n",
      "|TheMrNomis/Latex-Flavored-Markdown-PHP|refs/heads/master|LFM.php                                 |33261|ef8cb78feed7f21115462b2e230c453ab1b9565a|null          |\n",
      "|TheMrNomis/Latex-Flavored-Markdown-PHP|refs/heads/master|PHP/LatexFlavoredMarkdown.php           |33261|d989ce59652f57efaad0f73987977dcf088c0041|null          |\n",
      "|xurigan/uexJPush                      |refs/heads/master|EUExJPush/EUExJPush/EUExJPush.h         |33261|85268b90caa19efa2b84337279fe9e3bdc963803|null          |\n",
      "|xurigan/uexJPush                      |refs/heads/master|EUExJPush/uexJPush/plugin.xml           |33261|e1623bb9d8dc7db605fa4ceb6423662ad43c91b8|null          |\n",
      "+--------------------------------------+-----------------+----------------------------------------+-----+----------------------------------------+--------------+\n",
      "only showing top 5 rows\n",
      "\n",
      "\n",
      "Schema for languages:\n",
      "root\n",
      " |-- repo_name: string (nullable = true)\n",
      " |-- language: array (nullable = true)\n",
      " |    |-- element: struct (containsNull = true)\n",
      " |    |    |-- name: string (nullable = true)\n",
      " |    |    |-- bytes: long (nullable = true)\n",
      "\n",
      "\n",
      "Sample data from languages:\n"
     ]
    },
    {
     "name": "stderr",
     "output_type": "stream",
     "text": [
      "                                                                                \r"
     ]
    },
    {
     "name": "stdout",
     "output_type": "stream",
     "text": [
      "+-------------------+------------+\n",
      "|repo_name          |language    |\n",
      "+-------------------+------------+\n",
      "|lemi136/puntovent  |[{C, 80}]   |\n",
      "|taxigps/nctool     |[{C, 4461}] |\n",
      "|ahy1/strbuf        |[{C, 5573}] |\n",
      "|nleiten/mod_rpaf-ng|[{C, 30330}]|\n",
      "|kmcallister/alameda|[{C, 17077}]|\n",
      "+-------------------+------------+\n",
      "only showing top 5 rows\n",
      "\n",
      "\n",
      "Schema for licenses:\n",
      "root\n",
      " |-- repo_name: string (nullable = true)\n",
      " |-- license: string (nullable = true)\n",
      "\n",
      "\n",
      "Sample data from licenses:\n",
      "+-------------------------------------------------+------------+\n",
      "|repo_name                                        |license     |\n",
      "+-------------------------------------------------+------------+\n",
      "|autarch/Dist-Zilla-Plugin-Test-TidyAll           |artistic-2.0|\n",
      "|thundergnat/Prime-Factor                         |artistic-2.0|\n",
      "|kusha-b-k/Turabian_Engin_Fan                     |artistic-2.0|\n",
      "|onlinepremiumoutlet/onlinepremiumoutlet.github.io|artistic-2.0|\n",
      "|huangyuanlove/LiaoBa_Service                     |artistic-2.0|\n",
      "+-------------------------------------------------+------------+\n",
      "only showing top 5 rows\n",
      "\n"
     ]
    },
    {
     "name": "stderr",
     "output_type": "stream",
     "text": [
      "                                                                                \r"
     ]
    }
   ],
   "source": [
    "from pyspark.sql import SparkSession\n",
    "from pyspark.sql import functions as F\n",
    "\n",
    "# Step 1: Initializing the Spark session\n",
    "spark = SparkSession.builder \\\n",
    "    .appName(\"GitHub Dataset Exploration - Full Data\") \\\n",
    "    .config(\"spark.executor.memory\", \"8g\") \\\n",
    "    .config(\"spark.driver.memory\", \"4g\") \\\n",
    "    .config(\"spark.sql.shuffle.partitions\", \"200\") \\\n",
    "    .getOrCreate()\n",
    "\n",
    "spark.conf.set(\"spark.sql.debug.maxToStringFields\", \"1000\")  # Set to 1000 or a larger value\n",
    "\n",
    "# Step 2: Defining folder paths\n",
    "base_path = \"gs://msca-bdp-data-open/final_project_git\"\n",
    "folders = {\n",
    "    \"commits\": f\"{base_path}/commits\",\n",
    "    \"contents\": f\"{base_path}/contents\",\n",
    "    \"files\": f\"{base_path}/files\",\n",
    "    \"languages\": f\"{base_path}/languages\",\n",
    "    \"licenses\": f\"{base_path}/licenses\"\n",
    "}\n",
    "\n",
    "# Step 3: Loading full data from each folder\n",
    "full_data = {}\n",
    "for folder_name, folder_path in folders.items():\n",
    "    print(f\"Loading full data from {folder_name}...\")\n",
    "    full_data[folder_name] = spark.read.parquet(folder_path)\n",
    "\n",
    "# Step 4: Displaying the schema and sample data for each folder\n",
    "for folder_name, df in full_data.items():\n",
    "    print(f\"\\nSchema for {folder_name}:\")\n",
    "    df.printSchema()\n",
    "    print(f\"\\nSample data from {folder_name}:\")\n",
    "    df.show(5, truncate=False)\n"
   ]
  },
  {
   "cell_type": "code",
   "execution_count": 2,
   "id": "9f7f8619-31a4-45e3-b642-21df3310b2f9",
   "metadata": {},
   "outputs": [],
   "source": [
    "from pyspark.sql import functions as F\n",
    "\n",
    "# Step 1: Extracting the full commits DataFrame\n",
    "commits_df = full_data[\"commits\"]\n",
    "\n",
    "# Step 2: Filtering rows with null or empty critical fields\n",
    "commits_cleaned = commits_df.filter(\n",
    "    F.col(\"commit\").isNotNull() & \n",
    "    F.col(\"author.name\").isNotNull() & \n",
    "    F.col(\"author.email\").isNotNull() & \n",
    "    F.col(\"subject\").isNotNull() & \n",
    "    F.col(\"repo_name\").isNotNull()\n",
    ").filter(\n",
    "    F.size(F.col(\"repo_name\")) > 0\n",
    ")\n",
    "\n",
    "# Step 3: Selecting relevant fields for analysis\n",
    "commits_cleaned = commits_cleaned.select(\n",
    "    \"commit\",\n",
    "    F.col(\"author.name\").alias(\"author_name\"),\n",
    "    F.col(\"author.email\").alias(\"author_email\"),\n",
    "    F.col(\"author.time_sec\").alias(\"author_time_sec\"),\n",
    "    F.col(\"committer.name\").alias(\"committer_name\"),\n",
    "    F.col(\"committer.email\").alias(\"committer_email\"),\n",
    "    \"subject\",\n",
    "    \"message\",\n",
    "    F.explode(F.col(\"repo_name\")).alias(\"repo_name\")  # Flattening repo_name array\n",
    ")\n",
    "\n",
    "# Step 4: Filtering rows where author.name matches committer.name\n",
    "commits_cleaned = commits_cleaned.filter(\n",
    "    F.col(\"author_name\") == F.col(\"committer_name\")\n",
    ")\n",
    "\n",
    "# Step 5: Removing duplicates based on critical fields\n",
    "commits_cleaned = commits_cleaned.dropDuplicates([\"commit\", \"repo_name\"])\n"
   ]
  },
  {
   "cell_type": "code",
   "execution_count": 3,
   "id": "ca89f441-684c-4767-882f-9c62a7df43cd",
   "metadata": {},
   "outputs": [],
   "source": [
    "# Step 1: Sampling 20% of the cleaned commits dataset\n",
    "commits_sampled = commits_cleaned.sample(fraction=0.2, seed=42)\n"
   ]
  },
  {
   "cell_type": "code",
   "execution_count": 4,
   "id": "bf7e9a6c-6081-4922-aa90-5e643f03fc28",
   "metadata": {},
   "outputs": [],
   "source": [
    "# Step 1: Load the `contents` dataset\n",
    "contents_df = full_data[\"contents\"]\n",
    "\n",
    "# Step 2: Dropping rows with null values and duplicates\n",
    "contents_cleaned = contents_df.dropDuplicates().dropna()\n",
    "\n"
   ]
  },
  {
   "cell_type": "code",
   "execution_count": 5,
   "id": "e4b91263-ad09-4497-8a96-e89b1f3afce7",
   "metadata": {},
   "outputs": [],
   "source": [
    "# Step 1: Load the `files` dataset\n",
    "files_df = full_data[\"files\"]\n",
    "\n",
    "# Step 2: Dropping rows with null values and duplicates\n",
    "files_cleaned = files_df.dropna().dropDuplicates()\n",
    "\n"
   ]
  },
  {
   "cell_type": "code",
   "execution_count": 6,
   "id": "c95b68ca-901e-489d-8459-3fb0e08ea4dc",
   "metadata": {},
   "outputs": [],
   "source": [
    "from pyspark.sql import functions as F\n",
    "\n",
    "# Step 1: Load the `languages` dataset\n",
    "languages_df = full_data[\"languages\"]\n",
    "\n",
    "# Step 2: Dropping rows with null values in critical columns\n",
    "languages_cleaned = languages_df.filter(\n",
    "    F.col(\"repo_name\").isNotNull() & \n",
    "    F.col(\"language\").isNotNull()\n",
    ")\n",
    "\n",
    "# Step 3: Flattening the nested `language` array\n",
    "languages_cleaned = languages_cleaned.withColumn(\"language\", F.explode(\"language\"))\n",
    "\n",
    "# Step 4: Extracting `name` and `bytes` from the nested `language` struct\n",
    "languages_cleaned = languages_cleaned.select(\n",
    "    \"repo_name\",\n",
    "    F.col(\"language.name\").alias(\"language_name\"),\n",
    "    F.col(\"language.bytes\").alias(\"language_bytes\")\n",
    ")\n",
    "\n",
    "# Step 5: Dropping duplicates across all columns\n",
    "languages_cleaned = languages_cleaned.dropDuplicates()\n",
    "\n"
   ]
  },
  {
   "cell_type": "markdown",
   "id": "a5266ad0-7aac-476f-95fd-530d736d6084",
   "metadata": {},
   "source": [
    "## Step 1: Data Cleaning and Preparation\n",
    "\n",
    "### Objective:\n",
    "The goal of this step is to clean and prepare all datasets for analysis by ensuring data validity, consistency, and alignment across the datasets. Additionally, a schema overview is created to understand the structure of the datasets.\n",
    "\n",
    "---\n",
    "\n",
    "### Steps:\n",
    "\n",
    "1. **Cleaning the `commits` Dataset**:\n",
    "   - Dropped rows with null values in critical columns (e.g., `commit`, `author.name`, `author.email`, `subject`, `repo_name`).\n",
    "   - Removed duplicate rows based on key fields (`commit` and `repo_name`) to ensure uniqueness.\n",
    "   - Flattened nested arrays (e.g., `repo_name`) to simplify analysis.\n",
    "   - Selected relevant columns for analysis.\n",
    "\n",
    "2. **Sampling the `commits` Dataset**:\n",
    "   - Randomly sampled 20% of the cleaned `commits` dataset to reduce computational overhead while ensuring representativeness.\n",
    "   - Used a fixed random seed for reproducibility.\n",
    "\n",
    "3. **Cleaning the Remaining Datasets**:\n",
    "   - For the `contents`, `files`, `languages`, and `licenses` datasets:\n",
    "     - Dropped rows with null values in critical fields.\n",
    "     - Removed duplicate records to retain unique and valid data.\n",
    "\n",
    "4. **Filtering Datasets by Sampled Repositories**:\n",
    "   - Extracted unique `repo_name` values from the sampled `commits` dataset.\n",
    "   - Retained only rows in the `files`, `languages`, and `licenses` datasets where the `repo_name` matched those in the sampled `commits`.\n",
    "\n",
    "5. **Schema Overview**:\n",
    "   - Counted the number of columns (variables) in each cleaned and filtered dataset.\n",
    "   - Visualized the schema overview using a bar chart to understand the structure of the datasets.\n",
    "\n",
    "---\n",
    "\n",
    "### Outputs:\n",
    "1. **Cleaned Datasets**:\n",
    "   - `commits_sampled`\n",
    "   - `contents_cleaned`\n",
    "   - `files_filtered`\n",
    "   - `languages_filtered`\n",
    "   - `licenses_filtered`\n",
    "\n",
    "2. **Visualizations**:\n",
    "   - Record count chart: Highlights the number of records in each dataset after cleaning and filtering.\n",
    "\n",
    "---\n",
    "\n",
    "### Insights:\n",
    "- Cleaning and filtering steps ensure the datasets are accurate, non-redundant, and aligned for consistent analysis.\n",
    "- Sampling reduces computational effort while maintaining representativeness for analysis.\n",
    "- Schema overview helps in understanding the complexity and role of each dataset in the analysis.\n"
   ]
  },
  {
   "cell_type": "code",
   "execution_count": 7,
   "id": "9d9f2717-e5a7-47ef-96da-0f33ce33ead2",
   "metadata": {},
   "outputs": [],
   "source": [
    "# Step 1: Load the `licenses` dataset\n",
    "licenses_df = full_data[\"licenses\"]\n",
    "\n",
    "# Step 2: Dropping rows with null values in critical columns, and removing the duplicate values\n",
    "licenses_cleaned = licenses_df.dropDuplicates().dropna()\n",
    "\n"
   ]
  },
  {
   "cell_type": "code",
   "execution_count": 8,
   "id": "751081e0-e04e-4504-8ef7-6539cf739c38",
   "metadata": {},
   "outputs": [],
   "source": [
    "# Step 1: Extract unique `repo_name` values from the sampled `commits` dataset\n",
    "sampled_repo_names = commits_sampled.select(\"repo_name\").distinct()\n",
    "\n",
    "# Step 2: Filtering the `files` dataset\n",
    "files_filtered = files_cleaned.join(sampled_repo_names, on=\"repo_name\", how=\"inner\")\n",
    "\n",
    "# Step 3: Filtering the `languages` dataset\n",
    "languages_filtered = languages_cleaned.join(sampled_repo_names, on=\"repo_name\", how=\"inner\")\n",
    "\n",
    "# Step 4: Filtering the `licenses` dataset\n",
    "licenses_filtered = licenses_cleaned.join(sampled_repo_names, on=\"repo_name\", how=\"inner\")\n"
   ]
  },
  {
   "cell_type": "code",
   "execution_count": 9,
   "id": "64ec46a8-d4e0-4d42-9105-d90c615a3ad9",
   "metadata": {},
   "outputs": [],
   "source": [
    "commits_schema_count = len(commits_sampled.columns)\n",
    "contents_schema_count = len(contents_cleaned.columns)\n",
    "files_schema_count = len(files_filtered.columns)\n",
    "languages_schema_count = len(languages_filtered.columns)\n",
    "licenses_schema_count = len(licenses_filtered.columns)\n"
   ]
  },
  {
   "cell_type": "code",
   "execution_count": 11,
   "id": "29273a00-9c36-4f3c-b6a4-7661c640920e",
   "metadata": {},
   "outputs": [
    {
     "name": "stdout",
     "output_type": "stream",
     "text": [
      "9\n"
     ]
    }
   ],
   "source": [
    "print(commits_schema_count)"
   ]
  },
  {
   "cell_type": "code",
   "execution_count": 12,
   "id": "a0d7d57a-b917-4258-83db-c94769c554a2",
   "metadata": {},
   "outputs": [
    {
     "name": "stdout",
     "output_type": "stream",
     "text": [
      "5\n"
     ]
    }
   ],
   "source": [
    "print(contents_schema_count)"
   ]
  },
  {
   "cell_type": "code",
   "execution_count": 13,
   "id": "af215b37-aa3a-479c-9b73-7593d9a32f8d",
   "metadata": {},
   "outputs": [
    {
     "name": "stdout",
     "output_type": "stream",
     "text": [
      "6\n"
     ]
    }
   ],
   "source": [
    "print(files_schema_count)"
   ]
  },
  {
   "cell_type": "code",
   "execution_count": 14,
   "id": "dba32a14-6fd9-4b34-819e-f66646f92add",
   "metadata": {},
   "outputs": [
    {
     "name": "stdout",
     "output_type": "stream",
     "text": [
      "3\n"
     ]
    }
   ],
   "source": [
    "print(languages_schema_count)"
   ]
  },
  {
   "cell_type": "code",
   "execution_count": 15,
   "id": "c5eb4d20-4701-4c3d-9388-03d472ba795c",
   "metadata": {},
   "outputs": [
    {
     "name": "stdout",
     "output_type": "stream",
     "text": [
      "2\n"
     ]
    }
   ],
   "source": [
    "print(licenses_schema_count)"
   ]
  },
  {
   "cell_type": "code",
   "execution_count": 20,
   "id": "a680bc95-da26-4571-951d-528e06c47db8",
   "metadata": {},
   "outputs": [
    {
     "data": {
      "image/png": "[encoded data removed]",
      "text/plain": [
       "<Figure size 800x400 with 1 Axes>"
      ]
     },
     "metadata": {},
     "output_type": "display_data"
    }
   ],
   "source": [
    "import matplotlib.pyplot as plt\n",
    "\n",
    "# Replace these with actual schema column counts from your datasets\n",
    "schema_counts = {\n",
    "    \"commits_sampled\": 9,  # Replace with len(commits_sampled.columns)\n",
    "    \"contents_cleaned\": 5,  # Replace with len(contents_cleaned.columns)\n",
    "    \"files_filtered\": 6,  # Replace with len(files_filtered.columns)\n",
    "    \"languages_filtered\": 3,  # Replace with len(languages_filtered.columns)\n",
    "    \"licenses_filtered\": 2,  # Replace with len(licenses_filtered.columns)\n",
    "}\n",
    "\n",
    "# Extracting keys and values for plotting\n",
    "datasets = list(schema_counts.keys())\n",
    "columns = list(schema_counts.values())\n",
    "\n",
    "# Plotting the horizontal bar chart\n",
    "plt.figure(figsize=(8, 4))\n",
    "plt.barh(datasets, columns, color=['#192E5B', '#70CED0', '#1E65A7', '#00743F', '#2FB396'])\n",
    "plt.title('Schema Overview: Number of Variables in Each Dataset', fontsize=14)\n",
    "plt.xlabel('Number of Variables', fontsize=12)\n",
    "plt.ylabel('Datasets', fontsize=12)\n",
    "plt.tight_layout()\n",
    "plt.show()\n"
   ]
  },
  {
   "cell_type": "markdown",
   "id": "65640169-c277-4cfd-b68f-0d7167427e9f",
   "metadata": {},
   "source": [
    "## Step 2: Data Cleaning and Preparation\n",
    "\n",
    "### Overview\n",
    "The following steps were undertaken to clean and prepare the datasets for analysis. This ensured the data's quality, consistency, and relevance by aligning all datasets to the sampled commits dataset.\n",
    "\n",
    "---\n",
    "\n",
    "### 2.1: Cleaning the Commits Dataset\n",
    "- Filtered rows to ensure:\n",
    "  - Critical fields (`commit`, `author.name`, `author.email`, `subject`, and `repo_name`) are not null or empty.\n",
    "- Selected the following relevant fields:\n",
    "  - `commit`, `author_name`, `author_email`, `author_time_sec`, `committer_name`, `committer_email`, `subject`, `message`, `repo_name`.\n",
    "- Flattened the `repo_name` array for simpler analysis.\n",
    "- Matched `author.name` and `committer.name` to ensure consistency.\n",
    "- Removed duplicate rows based on `commit` and `repo_name`.\n",
    "- **Result**: A cleaned dataset containing 393,172,705 records.\n",
    "\n",
    "---\n",
    "\n",
    "### 2.2: Sampling the Cleaned Commits Dataset\n",
    "- Randomly sampled **20%** of the cleaned commits dataset for efficient analysis.\n",
    "- Ensured reproducibility by setting a random seed.\n",
    "- **Result**: The `commits_sampled` dataset is used as the baseline for filtering other datasets.\n",
    "\n",
    "---\n",
    "\n",
    "### 2.3: Cleaning the Contents Dataset\n",
    "- Dropped rows with null values in critical columns: `id`, `size`, and `content`.\n",
    "- Removed duplicate rows to retain only valid and unique records.\n",
    "- **Result**: A cleaned `contents_cleaned` dataset containing 228,154,045 records.\n",
    "\n",
    "---\n",
    "\n",
    "### 2.4: Cleaning the Files, Languages, and Licenses Datasets\n",
    "- For **files_filtered**, **languages_filtered**, and **licenses_filtered**, additional filtering was applied:\n",
    "  - Retained only those records where `repo_name` matched the repositories in the `commits_sampled` dataset.\n",
    "- Specific cleaning steps:\n",
    "  - **Files Dataset**:\n",
    "    - Ensured valid file metadata and removed duplicates.\n",
    "    - **Result**: `files_filtered` dataset with 4,834,290 records.\n",
    "  - **Languages Dataset**:\n",
    "    - Flattened nested arrays to extract `language_name` and `bytes`.\n",
    "    - Removed duplicates and ensured valid records.\n",
    "    - **Result**: `languages_filtered` dataset with 4,834,290 records.\n",
    "  - **Licenses Dataset**:\n",
    "    - Dropped rows with null values in `repo_name` or `license`.\n",
    "    - Removed duplicates to retain unique license information.\n",
    "    - **Result**: `licenses_filtered` dataset with 2,692,937 records.\n",
    "\n",
    "---\n",
    "\n",
    "### Final Output\n",
    "The following cleaned and filtered datasets were prepared for analysis:\n",
    "1. **commits_sampled**: 393,172,705 records.\n",
    "2. **contents_cleaned**: 228,154,045 records.\n",
    "3. **files_filtered**: 4,834,290 records.\n",
    "4. **languages_filtered**: 4,834,290 records.\n",
    "5. **licenses_filtered**: 2,692,937 records.\n"
   ]
  },
  {
   "cell_type": "code",
   "execution_count": 21,
   "id": "20fd5702-f5b6-4a59-8f08-f1f7ecf36f67",
   "metadata": {},
   "outputs": [
    {
     "name": "stderr",
     "output_type": "stream",
     "text": [
      "                                                                                \r"
     ]
    }
   ],
   "source": [
    "commits_count = commits_sampled.count()"
   ]
  },
  {
   "cell_type": "code",
   "execution_count": null,
   "id": "22f15060-3441-4c34-953c-0acceb9317d1",
   "metadata": {},
   "outputs": [
    {
     "name": "stderr",
     "output_type": "stream",
     "text": [
      "                                                                                \r"
     ]
    }
   ],
   "source": [
    "contents_count = contents_cleaned.count()"
   ]
  },
  {
   "cell_type": "code",
   "execution_count": 23,
   "id": "6208b467-2d5f-4537-92ff-056b6501c3f2",
   "metadata": {},
   "outputs": [
    {
     "name": "stdout",
     "output_type": "stream",
     "text": [
      "393172705\n"
     ]
    }
   ],
   "source": [
    "print(commits_count)"
   ]
  },
  {
   "cell_type": "code",
   "execution_count": 24,
   "id": "b6705591-62a7-425c-8272-fc8423a893d1",
   "metadata": {},
   "outputs": [
    {
     "name": "stdout",
     "output_type": "stream",
     "text": [
      "228154045\n"
     ]
    }
   ],
   "source": [
    "print(contents_count)"
   ]
  },
  {
   "cell_type": "code",
   "execution_count": 26,
   "id": "19710e46-a992-48b7-a697-7c30ccde6c7a",
   "metadata": {},
   "outputs": [
    {
     "name": "stderr",
     "output_type": "stream",
     "text": [
      "[Stage 51:======================================================> (49 + 1) / 50]\r"
     ]
    },
    {
     "name": "stdout",
     "output_type": "stream",
     "text": [
      "4834290\n"
     ]
    },
    {
     "name": "stderr",
     "output_type": "stream",
     "text": [
      "                                                                                \r"
     ]
    }
   ],
   "source": [
    "files_count = files_filtered.count()\n",
    "print(files_count)"
   ]
  },
  {
   "cell_type": "code",
   "execution_count": null,
   "id": "265ebf2f-76d4-45c4-8c92-9dbd25cf27ee",
   "metadata": {},
   "outputs": [
    {
     "name": "stderr",
     "output_type": "stream",
     "text": [
      "[Stage 68:===================================================>    (46 + 4) / 50]\r"
     ]
    },
    {
     "name": "stdout",
     "output_type": "stream",
     "text": [
      "4834290\n"
     ]
    },
    {
     "name": "stderr",
     "output_type": "stream",
     "text": [
      "                                                                                \r"
     ]
    }
   ],
   "source": [
    "languages_count = languages_filtered.count()\n",
    "print(files_count)"
   ]
  },
  {
   "cell_type": "code",
   "execution_count": 28,
   "id": "716788cd-6f78-4745-b438-d375bf23c35b",
   "metadata": {},
   "outputs": [
    {
     "name": "stderr",
     "output_type": "stream",
     "text": [
      "[Stage 83:=================================================>      (44 + 6) / 50]\r"
     ]
    },
    {
     "name": "stdout",
     "output_type": "stream",
     "text": [
      "2692937\n"
     ]
    },
    {
     "name": "stderr",
     "output_type": "stream",
     "text": [
      "                                                                                \r"
     ]
    }
   ],
   "source": [
    "licenses_count = licenses_filtered.count()\n",
    "print(licenses_count)"
   ]
  },
  {
   "cell_type": "code",
   "execution_count": 29,
   "id": "63d92ee5-3fed-4337-a21a-22471fb3315d",
   "metadata": {},
   "outputs": [
    {
     "data": {
      "image/png": "[encoded data removed]",
      "text/plain": [
       "<Figure size 1000x600 with 1 Axes>"
      ]
     },
     "metadata": {},
     "output_type": "display_data"
    }
   ],
   "source": [
    "import matplotlib.pyplot as plt\n",
    "\n",
    "# Replace these with actual record counts from your datasets\n",
    "record_counts = {\n",
    "    \"commits_sampled\": 393172705,  # Replace with commits_sampled.count()\n",
    "    \"contents_cleaned\": 228154045,  # Replace with contents_cleaned.count()\n",
    "    \"files_filtered\": 4834290,  # Replace with files_filtered.count()\n",
    "    \"languages_filtered\": 4834290,  # Replace with languages_filtered.count()\n",
    "    \"licenses_filtered\": 2692937,  # Replace with licenses_filtered.count()\n",
    "}\n",
    "\n",
    "# Extracting keys and values for plotting\n",
    "datasets = list(record_counts.keys())\n",
    "counts = list(record_counts.values())\n",
    "\n",
    "# Plotting the bar chart\n",
    "plt.figure(figsize=(10, 6))\n",
    "plt.bar(datasets, counts, color=['#1f77b4', '#ff7f0e', '#2ca02c', '#d62728', '#9467bd'])\n",
    "plt.title('Final Record Count Across Datasets', fontsize=14)\n",
    "plt.xlabel('Datasets', fontsize=12)\n",
    "plt.ylabel('Record Count', fontsize=12)\n",
    "plt.xticks(rotation=45, ha='right')\n",
    "plt.tight_layout()\n",
    "plt.show()\n"
   ]
  },
  {
   "cell_type": "code",
   "execution_count": 1,
   "id": "80360808-242c-4181-ad35-7cb3b682d639",
   "metadata": {},
   "outputs": [
    {
     "data": {
      "text/html": [
       "<style type=\"text/css\">\n",
       "</style>\n",
       "<table id=\"T_3e65c\">\n",
       "  <thead>\n",
       "    <tr>\n",
       "      <th class=\"blank level0\" >&nbsp;</th>\n",
       "      <th id=\"T_3e65c_level0_col0\" class=\"col_heading level0 col0\" >Dataset Name</th>\n",
       "      <th id=\"T_3e65c_level0_col1\" class=\"col_heading level0 col1\" >Record Count</th>\n",
       "    </tr>\n",
       "  </thead>\n",
       "  <tbody>\n",
       "    <tr>\n",
       "      <th id=\"T_3e65c_level0_row0\" class=\"row_heading level0 row0\" >0</th>\n",
       "      <td id=\"T_3e65c_row0_col0\" class=\"data row0 col0\" >commits_sampled</td>\n",
       "      <td id=\"T_3e65c_row0_col1\" class=\"data row0 col1\" >393,172,705</td>\n",
       "    </tr>\n",
       "    <tr>\n",
       "      <th id=\"T_3e65c_level0_row1\" class=\"row_heading level0 row1\" >1</th>\n",
       "      <td id=\"T_3e65c_row1_col0\" class=\"data row1 col0\" >contents_cleaned</td>\n",
       "      <td id=\"T_3e65c_row1_col1\" class=\"data row1 col1\" >228,154,045</td>\n",
       "    </tr>\n",
       "    <tr>\n",
       "      <th id=\"T_3e65c_level0_row2\" class=\"row_heading level0 row2\" >2</th>\n",
       "      <td id=\"T_3e65c_row2_col0\" class=\"data row2 col0\" >files_filtered</td>\n",
       "      <td id=\"T_3e65c_row2_col1\" class=\"data row2 col1\" >4,834,290</td>\n",
       "    </tr>\n",
       "    <tr>\n",
       "      <th id=\"T_3e65c_level0_row3\" class=\"row_heading level0 row3\" >3</th>\n",
       "      <td id=\"T_3e65c_row3_col0\" class=\"data row3 col0\" >languages_filtered</td>\n",
       "      <td id=\"T_3e65c_row3_col1\" class=\"data row3 col1\" >4,834,290</td>\n",
       "    </tr>\n",
       "    <tr>\n",
       "      <th id=\"T_3e65c_level0_row4\" class=\"row_heading level0 row4\" >4</th>\n",
       "      <td id=\"T_3e65c_row4_col0\" class=\"data row4 col0\" >licenses_filtered</td>\n",
       "      <td id=\"T_3e65c_row4_col1\" class=\"data row4 col1\" >2,692,937</td>\n",
       "    </tr>\n",
       "  </tbody>\n",
       "</table>\n"
      ],
      "text/plain": [
       "<pandas.io.formats.style.Styler at 0x13f0df05250>"
      ]
     },
     "execution_count": 1,
     "metadata": {},
     "output_type": "execute_result"
    }
   ],
   "source": [
    "import pandas as pd\n",
    "\n",
    "# Create the data\n",
    "data = {\n",
    "    \"Dataset Name\": [\n",
    "        \"commits_sampled\", \n",
    "        \"contents_cleaned\", \n",
    "        \"files_filtered\", \n",
    "        \"languages_filtered\", \n",
    "        \"licenses_filtered\"\n",
    "    ],\n",
    "    \"Record Count\": [\n",
    "        393172705, \n",
    "        228154045, \n",
    "        4834290, \n",
    "        4834290, \n",
    "        2692937\n",
    "    ]\n",
    "}\n",
    "\n",
    "# Create a DataFrame\n",
    "df = pd.DataFrame(data)\n",
    "\n",
    "# Display the table\n",
    "df.style.format({\"Record Count\": \"{:,}\"})  # Add commas for better readability\n"
   ]
  },
  {
   "cell_type": "code",
   "execution_count": null,
   "id": "55fc7c63-ae2d-49a4-8d63-22f1c6f54316",
   "metadata": {},
   "outputs": [],
   "source": []
  }
 ],
 "metadata": {
  "kernelspec": {
   "display_name": "Python 3",
   "language": "python",
   "name": "python3"
  },
  "language_info": {
   "codemirror_mode": {
    "name": "ipython",
    "version": 3
   },
   "file_extension": ".py",
   "mimetype": "text/x-python",
   "name": "python",
   "nbconvert_exporter": "python",
   "pygments_lexer": "ipython3",
   "version": "3.11.9"
  }
 },
 "nbformat": 4,
 "nbformat_minor": 5
}
